{
 "metadata": {
  "name": "",
  "signature": "sha256:fd528b6bdf952cf7731bc32b410d5519c1582d1d2e9e6939fd57408f4a304e74"
 },
 "nbformat": 3,
 "nbformat_minor": 0,
 "worksheets": [
  {
   "cells": [
    {
     "cell_type": "heading",
     "level": 1,
     "metadata": {},
     "source": [
      "Script to push waveforms to seishub"
     ]
    },
    {
     "cell_type": "code",
     "collapsed": false,
     "input": [
      "#! /usr/bin/env python\n",
      "\n",
      "import os\n",
      "from obspy.xseed import Parser\n",
      "\n",
      "#very messisly created string containing the seishub push command:\n",
      "\n",
      "check = False  \n",
      "while check == False:\n",
      "    \n",
      "    callfile = raw_input(\"enter file name to push to SeisHub, e.g. event1.xml  \")\n",
      "    \n",
      "    curl = 'curl -v --data-binary '\n",
      "    prefix = '@'\n",
      "    file_name = prefix + callfile\n",
      "    post = '-u admin:admin -x POST '\n",
      "    url_instance = 'http://localhost:8080/xml/seismology/event/'\n",
      "    URL = url_instance + callfile\n",
      "#will need to change http path to running instance of seishub\n",
      "#combine components defined above to create command string\n",
      "    seishub_push = curl + file_name + post + URL\n",
      "    \n",
      "    if \".xml\" in callfile:       \n",
      "#        os.system(seishub_push)\n",
      "        print seishub_push\n",
      "        check = True\n",
      "        \n",
      "    elif \".resp\" in callfile:\n",
      "        print \"haven't yet incorperated RESP files into seishub push. Please use different format \"\n",
      "        check = False  \n",
      "        \n",
      "    elif \"seed\" in callfile:\n",
      "#won't work if the word 'seed' is in the filename\n",
      "        check2 = False\n",
      "        while check2 == False:\n",
      "\n",
      "            convertfile = raw_input(\"do you wish to convert to XML before pushing?  \")    \n",
      "            if 'yes' in convertfile:\n",
      "            #conversion from XMl to mSEED - not working yet\n",
      "#                sp = Parser(file_name)\n",
      "#                sp.writeXSEED(file_name)\n",
      "                print 'converted to .xml'\n",
      "                print seishub_push\n",
      "#                os.system(seishub_push)        \n",
      "                check2 = True\n",
      "            #need to use new .XML name here for the push, as oppossed to originally inputted name       \n",
      "\n",
      "            elif 'no' in convertfile:  \n",
      "                print seishub_push\n",
      "                check2 = True\n",
      "        del check2\n",
      "        \n",
      "    else:    \n",
      "        print \"response not recognised, please answer only yes/no \"\n",
      "        check = False\n",
      "\n",
      "        \n",
      "        check = True\n",
      "del check"
     ],
     "language": "python",
     "metadata": {},
     "outputs": []
    },
    {
     "cell_type": "markdown",
     "metadata": {},
     "source": [
      "Would like to make this process very interactive.e.g. 'do you want to push to seishub? Y/N', etc. for the majority of seishub processes"
     ]
    },
    {
     "cell_type": "code",
     "collapsed": false,
     "input": [],
     "language": "python",
     "metadata": {},
     "outputs": [],
     "prompt_number": 4
    },
    {
     "cell_type": "code",
     "collapsed": false,
     "input": [],
     "language": "python",
     "metadata": {},
     "outputs": []
    }
   ],
   "metadata": {}
  }
 ]
}