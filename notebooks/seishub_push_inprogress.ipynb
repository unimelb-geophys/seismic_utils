{
 "metadata": {
  "name": "",
  "signature": "sha256:7cb3d577414a7d0e39980089cf310395c463e112692a5a6465137011ea1a25a3"
 },
 "nbformat": 3,
 "nbformat_minor": 0,
 "worksheets": [
  {
   "cells": [
    {
     "cell_type": "heading",
     "level": 1,
     "metadata": {},
     "source": [
      "Script to push waveforms to seishub"
     ]
    },
    {
     "cell_type": "code",
     "collapsed": false,
     "input": [
      "import os\n",
      "from obspy.xseed import Parser\n",
      "\n",
      "callfile = raw_input(\"enter file name to push to SeisHub\")\n",
      "\n",
      "#very messisly created string containing the seishub push command:\n",
      "\n",
      "\n",
      "curl = 'curl -v --data-binary '\n",
      "prefix = '@'\n",
      "file_name = prefix + callfile\n",
      "post = '-u admin:admin -x POST '\n",
      "url_instance = 'http://localhost:8080/xml/seismology/event/'\n",
      "URL = url_instance + callfile\n",
      "#will need to change http path to running instance of seishub\n",
      "\n",
      "#combine components defined above to create command string\n",
      "seishub_push = curl + file_name + post + URL\n",
      "\n",
      "\n",
      "#execute command in terminal\n",
      "os.system(seishub_push)\n",
      "#print seishub_push"
     ],
     "language": "python",
     "metadata": {},
     "outputs": [
      {
       "ename": "IndentationError",
       "evalue": "unexpected indent (<ipython-input-34-0f3c19f5d869>, line 9)",
       "output_type": "pyerr",
       "traceback": [
        "\u001b[1;36m  File \u001b[1;32m\"<ipython-input-34-0f3c19f5d869>\"\u001b[1;36m, line \u001b[1;32m9\u001b[0m\n\u001b[1;33m    curl = 'curl -v --data-binary '\u001b[0m\n\u001b[1;37m    ^\u001b[0m\n\u001b[1;31mIndentationError\u001b[0m\u001b[1;31m:\u001b[0m unexpected indent\n"
       ]
      }
     ],
     "prompt_number": 34
    },
    {
     "cell_type": "markdown",
     "metadata": {},
     "source": [
      "Would like to make this process very interactive. e.g. 'do you want to push to seishub? Y/N', etc. for the majority of seishub processes"
     ]
    },
    {
     "cell_type": "code",
     "collapsed": false,
     "input": [
      "#if we only have data in datalessSEED format we can convert to XML:\n",
      "\n",
      "from obspy.xseed import Parser\n",
      "\n",
      "sp = Parser(file_name)\n",
      "sp.writeXSEED(file_name)\n",
      "\n",
      "#again should have a question here, do you wish to convert from SEED to XML? Y/N"
     ],
     "language": "python",
     "metadata": {},
     "outputs": []
    }
   ],
   "metadata": {}
  }
 ]
}