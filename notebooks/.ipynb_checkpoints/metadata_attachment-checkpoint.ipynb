{
 "cells": [
  {
   "cell_type": "code",
   "execution_count": 5,
   "metadata": {
    "collapsed": false
   },
   "outputs": [
    {
     "name": "stdout",
     "output_type": "stream",
     "text": [
      "Populating the interactive namespace from numpy and matplotlib\n"
     ]
    }
   ],
   "source": [
    "%pylab inline"
   ]
  },
  {
   "cell_type": "code",
   "execution_count": 60,
   "metadata": {
    "collapsed": false
   },
   "outputs": [
    {
     "data": {
      "text/plain": [
       "0"
      ]
     },
     "execution_count": 60,
     "metadata": {},
     "output_type": "execute_result"
    }
   ],
   "source": [
    "import os;\n",
    "from obspy import read, read_inventory\n",
    "from obspy import station\n",
    "from obspy.station import stationxml\n",
    "\n",
    "#use file name produced from download script to read .mseed file from wherever this has been saved.\n",
    "#alternatively I imagine eventually we could pull files down from seishub instead.\n",
    "\n",
    "#currently reading an example miniseed file in as a stream\n",
    "st = read(\"../../../py_hg/obspy_stuff/2014-10-17UTC8_13.mseed\")\n",
    "#st = read(\"../20150308_0546.agospublic.all.mseed\")\n",
    "x = len(st)\n",
    "\n",
    "#CORRECTING FOR NETWORK CODE AND LOCATION\n",
    "\n",
    "network_change1 = 'UM'\n",
    "network_new_name1 = 'BM'\n",
    "network_change2 = '01'\n",
    "network_new_name2 = 'UM'\n",
    "location_blank = ''\n",
    "\n",
    "\n",
    "for i in range(0, x):\n",
    "    tr = st[i]\n",
    "    \n",
    "# removes LOCATION so it is blank, as listed in the metadata files (regardless of what it was previously)\n",
    "   \n",
    "    tr.stats[\"location\"] = location_blank\n",
    "    \n",
    "# Changes BOREHOLE network codes from UM to BM and SURFACE network codes from 01 to UM \n",
    "    net = tr.stats[\"network\"]\n",
    "    if network_change1 in net:\n",
    "        tr.stats[\"network\"] = network_new_name1\n",
    "    elif network_change2 in net:\n",
    "        tr.stats[\"network\"] = network_new_name2\n",
    "    else:\n",
    "        continue\n",
    "\n",
    "#CORRECTING BOREHOLE STATION NAMES\n",
    "\n",
    "serial_no_1 = 'A346'\n",
    "site_name_1 = 'LOYU'\n",
    "serial_no_2 = 'BD5E'\n",
    "site_name_2 = 'MOSU'\n",
    "serial_no_3 = 'BD70'\n",
    "site_name_3 = 'SGWU'\n",
    "serial_no_4 = 'BD91'\n",
    "site_name_4 = 'WILU'\n",
    "\n",
    "#Changes station name from serial number to station code\n",
    "\n",
    "for i in range(0, x):\n",
    "    tr = st[i]\n",
    "    stat = tr.stats[\"station\"] \n",
    "    if serial_no_1 in stat:\n",
    "        tr.stats[\"station\"] = site_name_1\n",
    "    elif serial_no_2 in stat:\n",
    "        tr.stats[\"station\"] = site_name_2\n",
    "    elif serial_no_3 in stat:\n",
    "        tr.stats[\"station\"] = site_name_3\n",
    "    elif serial_no_4 in stat:\n",
    "        tr.stats[\"station\"] = site_name_4\n",
    "    else:\n",
    "        continue\n",
    "        \n",
    "# CHANGES TO CHANNEL CODE\n",
    "\n",
    "# (this is a bit messy at the moment since the wildcard feature seemed to be failing)\n",
    "        \n",
    "channel_new_name_E = 'EHE'\n",
    "channel_new_name_N = 'EHN'\n",
    "channel_new_name_Z = 'EHZ'\n",
    "\n",
    "for i in range(0, x):\n",
    "    tr = st[i]\n",
    "    chan = tr.stats[\"channel\"] \n",
    "\n",
    "# Changes CHANNEL names from '**E', '**N', '**Z', (e.g. BHE, DHZ) to a consitant format of EHE, EHN, EHZ\n",
    "# EXCEPT FOR BOREHOLE STATIONS, which will maintain channel codes BHE, BHN, BHZ\n",
    "\n",
    "    if 'DHE' in chan:\n",
    "        tr.stats[\"channel\"] = channel_new_name_E\n",
    "    elif 'DHN' in chan:\n",
    "        tr.stats[\"channel\"] = channel_new_name_N\n",
    "    elif 'DHZ' in chan:\n",
    "        tr.stats[\"channel\"] = channel_new_name_Z    \n",
    "    elif 'ENE' in chan:\n",
    "        tr.stats[\"channel\"] = channel_new_name_E\n",
    "    elif 'ENN' in chan:\n",
    "        tr.stats[\"channel\"] = channel_new_name_N\n",
    "    elif 'ENZ' in chan:\n",
    "        tr.stats[\"channel\"] = channel_new_name_Z         \n",
    "    else:\n",
    "        continue        \n",
    "        \n",
    "# saves stream as a combination of edited traces       \n",
    "    st[i] = tr\n",
    "\n",
    "\n",
    "# ATTACH METADATA TO STREAM\n",
    "\n",
    "#import and read metadata file from GitHub\n",
    "os.system('wget https://raw.githubusercontent.com/unimelb-geophys/metadata/master/UOM.xml')\n",
    "metadata = stationxml.read_StationXML('UOM.xml')\n",
    "\n",
    "#attach metadata to stream\n",
    "st.attach_response(metadata)\n",
    "\n",
    "#delete downloaded metadata file \n",
    "os.system('rm -r UOM.xml')"
   ]
  },
  {
   "cell_type": "code",
   "execution_count": 7,
   "metadata": {
    "collapsed": false
   },
   "outputs": [],
   "source": [
    "#CAN CHECK EVERYTHING IS WORKING\n",
    "\n",
    "#tr0 = st[0]\n",
    "#print tr0.stats.response"
   ]
  },
  {
   "cell_type": "code",
   "execution_count": 11,
   "metadata": {
    "collapsed": false
   },
   "outputs": [],
   "source": [
    "#st.plot()\n",
    "#st.remove_response()"
   ]
  },
  {
   "cell_type": "code",
   "execution_count": 47,
   "metadata": {
    "collapsed": true
   },
   "outputs": [],
   "source": [
    "st = read(\"../../../py_hg/obspy_stuff/2014-10-17UTC8_13.mseed\")"
   ]
  },
  {
   "cell_type": "code",
   "execution_count": 51,
   "metadata": {
    "collapsed": false
   },
   "outputs": [
    {
     "data": {
      "text/plain": [
       ".NARR.A.ENZ | 2014-10-17T08:13:00.000000Z - 2014-10-17T08:14:40.000000Z | 200.0 Hz, 20001 samples"
      ]
     },
     "execution_count": 51,
     "metadata": {},
     "output_type": "execute_result"
    }
   ],
   "source": [
    "st[5]"
   ]
  },
  {
   "cell_type": "code",
   "execution_count": 29,
   "metadata": {
    "collapsed": true
   },
   "outputs": [],
   "source": [
    "from obspy.signal import PPSD\n",
    "from obspy.xseed import Parser"
   ]
  },
  {
   "cell_type": "code",
   "execution_count": 61,
   "metadata": {
    "collapsed": true
   },
   "outputs": [],
   "source": [
    "tr = st[5]"
   ]
  },
  {
   "cell_type": "code",
   "execution_count": 62,
   "metadata": {
    "collapsed": false
   },
   "outputs": [],
   "source": [
    "parser = Parser(\"../../metadata/DatalessSEED/UM_NARR.dataless\")"
   ]
  },
  {
   "cell_type": "code",
   "execution_count": 63,
   "metadata": {
    "collapsed": false
   },
   "outputs": [
    {
     "ename": "SEEDParserException",
     "evalue": "No channel found with the given SEED id: .NARR..EHZ",
     "output_type": "error",
     "traceback": [
      "\u001b[0;31m---------------------------------------------------------------------------\u001b[0m",
      "\u001b[0;31mSEEDParserException\u001b[0m                       Traceback (most recent call last)",
      "\u001b[0;32m<ipython-input-63-2b5cd158ac3e>\u001b[0m in \u001b[0;36m<module>\u001b[0;34m()\u001b[0m\n\u001b[0;32m----> 1\u001b[0;31m \u001b[0mpaz\u001b[0m \u001b[0;34m=\u001b[0m \u001b[0mparser\u001b[0m\u001b[0;34m.\u001b[0m\u001b[0mgetPAZ\u001b[0m\u001b[0;34m(\u001b[0m\u001b[0mtr\u001b[0m\u001b[0;34m.\u001b[0m\u001b[0mid\u001b[0m\u001b[0;34m)\u001b[0m\u001b[0;34m\u001b[0m\u001b[0m\n\u001b[0m\u001b[1;32m      2\u001b[0m \u001b[0;31m#ppsd = PPSD(tr.stats)\u001b[0m\u001b[0;34m\u001b[0m\u001b[0;34m\u001b[0m\u001b[0m\n",
      "\u001b[0;32m/Users/dansandiford/Documents/programming/earthsci_code/python/seismic/obspy/obspy/xseed/parser.pyc\u001b[0m in \u001b[0;36mgetPAZ\u001b[0;34m(self, seed_id, datetime)\u001b[0m\n\u001b[1;32m    496\u001b[0m             \u001b[0mconstant\u001b[0m\u001b[0;34m\u001b[0m\u001b[0m\n\u001b[1;32m    497\u001b[0m         \"\"\"\n\u001b[0;32m--> 498\u001b[0;31m         \u001b[0mblockettes\u001b[0m \u001b[0;34m=\u001b[0m \u001b[0mself\u001b[0m\u001b[0;34m.\u001b[0m\u001b[0m_select\u001b[0m\u001b[0;34m(\u001b[0m\u001b[0mseed_id\u001b[0m\u001b[0;34m,\u001b[0m \u001b[0mdatetime\u001b[0m\u001b[0;34m)\u001b[0m\u001b[0;34m\u001b[0m\u001b[0m\n\u001b[0m\u001b[1;32m    499\u001b[0m         \u001b[0mdata\u001b[0m \u001b[0;34m=\u001b[0m \u001b[0;34m{\u001b[0m\u001b[0;34m}\u001b[0m\u001b[0;34m\u001b[0m\u001b[0m\n\u001b[1;32m    500\u001b[0m         \u001b[0;32mfor\u001b[0m \u001b[0mblkt\u001b[0m \u001b[0;32min\u001b[0m \u001b[0mblockettes\u001b[0m\u001b[0;34m:\u001b[0m\u001b[0;34m\u001b[0m\u001b[0m\n",
      "\u001b[0;32m/Users/dansandiford/Documents/programming/earthsci_code/python/seismic/obspy/obspy/xseed/parser.pyc\u001b[0m in \u001b[0;36m_select\u001b[0;34m(self, seed_id, datetime)\u001b[0m\n\u001b[1;32m    471\u001b[0m         \u001b[0;32mif\u001b[0m \u001b[0mlen\u001b[0m\u001b[0;34m(\u001b[0m\u001b[0mb50s\u001b[0m\u001b[0;34m)\u001b[0m \u001b[0;34m==\u001b[0m \u001b[0;36m0\u001b[0m \u001b[0;32mor\u001b[0m \u001b[0mlen\u001b[0m\u001b[0;34m(\u001b[0m\u001b[0mb52s\u001b[0m\u001b[0;34m)\u001b[0m \u001b[0;34m==\u001b[0m \u001b[0;36m0\u001b[0m\u001b[0;34m:\u001b[0m\u001b[0;34m\u001b[0m\u001b[0m\n\u001b[1;32m    472\u001b[0m             \u001b[0mmsg\u001b[0m \u001b[0;34m=\u001b[0m \u001b[0;34m'No channel found with the given SEED id: %s'\u001b[0m\u001b[0;34m\u001b[0m\u001b[0m\n\u001b[0;32m--> 473\u001b[0;31m             \u001b[0;32mraise\u001b[0m \u001b[0mSEEDParserException\u001b[0m\u001b[0;34m(\u001b[0m\u001b[0mmsg\u001b[0m \u001b[0;34m%\u001b[0m \u001b[0;34m(\u001b[0m\u001b[0mseed_id\u001b[0m\u001b[0;34m)\u001b[0m\u001b[0;34m)\u001b[0m\u001b[0;34m\u001b[0m\u001b[0m\n\u001b[0m\u001b[1;32m    474\u001b[0m         \u001b[0;32melif\u001b[0m \u001b[0mlen\u001b[0m\u001b[0;34m(\u001b[0m\u001b[0mb50s\u001b[0m\u001b[0;34m)\u001b[0m \u001b[0;34m>\u001b[0m \u001b[0;36m1\u001b[0m \u001b[0;32mor\u001b[0m \u001b[0mlen\u001b[0m\u001b[0;34m(\u001b[0m\u001b[0mb52s\u001b[0m\u001b[0;34m)\u001b[0m \u001b[0;34m>\u001b[0m \u001b[0;36m1\u001b[0m\u001b[0;34m:\u001b[0m\u001b[0;34m\u001b[0m\u001b[0m\n\u001b[1;32m    475\u001b[0m             \u001b[0mmsg\u001b[0m \u001b[0;34m=\u001b[0m \u001b[0;34m'More than one channel found with the given SEED id: %s'\u001b[0m\u001b[0;34m\u001b[0m\u001b[0m\n",
      "\u001b[0;31mSEEDParserException\u001b[0m: No channel found with the given SEED id: .NARR..EHZ"
     ]
    }
   ],
   "source": [
    "paz = parser.getPAZ(tr.id)\n",
    "#ppsd = PPSD(tr.stats)"
   ]
  },
  {
   "cell_type": "code",
   "execution_count": 55,
   "metadata": {
    "collapsed": false
   },
   "outputs": [
    {
     "name": "stdout",
     "output_type": "stream",
     "text": [
      "BM.MOSU..BHZ\n"
     ]
    }
   ],
   "source": [
    "\n",
    "print(ppsd.id)"
   ]
  },
  {
   "cell_type": "code",
   "execution_count": 37,
   "metadata": {
    "collapsed": false
   },
   "outputs": [],
   "source": []
  },
  {
   "cell_type": "code",
   "execution_count": 38,
   "metadata": {
    "collapsed": false
   },
   "outputs": [
    {
     "name": "stdout",
     "output_type": "stream",
     "text": [
      "BM.MOSU..BHZ\n"
     ]
    }
   ],
   "source": [
    "print(ppsd.id)"
   ]
  },
  {
   "cell_type": "code",
   "execution_count": 39,
   "metadata": {
    "collapsed": false
   },
   "outputs": [],
   "source": [
    "paz = parser.getPAZ(tr.id)"
   ]
  },
  {
   "cell_type": "code",
   "execution_count": 41,
   "metadata": {
    "collapsed": false
   },
   "outputs": [
    {
     "data": {
      "text/plain": [
       "{u'digitizer_gain': 32.0,\n",
       " u'gain': 1.0,\n",
       " u'poles': [(-7.6655+9.9576j), (-7.6655-9.9576j)],\n",
       " u'seismometer_gain': 78.7,\n",
       " u'sensitivity': 987922.0,\n",
       " u'zeros': [0j, 0j]}"
      ]
     },
     "execution_count": 41,
     "metadata": {},
     "output_type": "execute_result"
    }
   ],
   "source": [
    "paz"
   ]
  },
  {
   "cell_type": "code",
   "execution_count": 40,
   "metadata": {
    "collapsed": false
   },
   "outputs": [
    {
     "data": {
      "text/plain": [
       "False"
      ]
     },
     "execution_count": 40,
     "metadata": {},
     "output_type": "execute_result"
    }
   ],
   "source": [
    "ppsd.add(st) "
   ]
  },
  {
   "cell_type": "code",
   "execution_count": 22,
   "metadata": {
    "collapsed": false
   },
   "outputs": [
    {
     "ename": "Exception",
     "evalue": "No data to plot",
     "output_type": "error",
     "traceback": [
      "\u001b[0;31m---------------------------------------------------------------------------\u001b[0m",
      "\u001b[0;31mException\u001b[0m                                 Traceback (most recent call last)",
      "\u001b[0;32m<ipython-input-22-03ade023eb86>\u001b[0m in \u001b[0;36m<module>\u001b[0;34m()\u001b[0m\n\u001b[0;32m----> 1\u001b[0;31m \u001b[0mppsd\u001b[0m\u001b[0;34m.\u001b[0m\u001b[0mplot\u001b[0m\u001b[0;34m(\u001b[0m\u001b[0;34m)\u001b[0m\u001b[0;34m\u001b[0m\u001b[0m\n\u001b[0m",
      "\u001b[0;32m/Users/dansandiford/Documents/programming/earthsci_code/python/seismic/obspy/obspy/signal/spectral_estimation.pyc\u001b[0m in \u001b[0;36mplot\u001b[0;34m(self, filename, show_coverage, show_histogram, show_percentiles, percentiles, show_noise_models, grid, show, max_percentage, period_lim, show_mode, show_mean)\u001b[0m\n\u001b[1;32m    830\u001b[0m         \u001b[0;32mif\u001b[0m \u001b[0mself\u001b[0m\u001b[0;34m.\u001b[0m\u001b[0mhist_stack\u001b[0m \u001b[0;32mis\u001b[0m \u001b[0mNone\u001b[0m\u001b[0;34m:\u001b[0m\u001b[0;34m\u001b[0m\u001b[0m\n\u001b[1;32m    831\u001b[0m             \u001b[0mmsg\u001b[0m \u001b[0;34m=\u001b[0m \u001b[0;34m'No data to plot'\u001b[0m\u001b[0;34m\u001b[0m\u001b[0m\n\u001b[0;32m--> 832\u001b[0;31m             \u001b[0;32mraise\u001b[0m \u001b[0mException\u001b[0m\u001b[0;34m(\u001b[0m\u001b[0mmsg\u001b[0m\u001b[0;34m)\u001b[0m\u001b[0;34m\u001b[0m\u001b[0m\n\u001b[0m\u001b[1;32m    833\u001b[0m \u001b[0;34m\u001b[0m\u001b[0m\n\u001b[1;32m    834\u001b[0m         \u001b[0mX\u001b[0m\u001b[0;34m,\u001b[0m \u001b[0mY\u001b[0m \u001b[0;34m=\u001b[0m \u001b[0mnp\u001b[0m\u001b[0;34m.\u001b[0m\u001b[0mmeshgrid\u001b[0m\u001b[0;34m(\u001b[0m\u001b[0mself\u001b[0m\u001b[0;34m.\u001b[0m\u001b[0mxedges\u001b[0m\u001b[0;34m,\u001b[0m \u001b[0mself\u001b[0m\u001b[0;34m.\u001b[0m\u001b[0myedges\u001b[0m\u001b[0;34m)\u001b[0m\u001b[0;34m\u001b[0m\u001b[0m\n",
      "\u001b[0;31mException\u001b[0m: No data to plot"
     ]
    }
   ],
   "source": [
    "ppsd.plot() "
   ]
  },
  {
   "cell_type": "code",
   "execution_count": null,
   "metadata": {
    "collapsed": true
   },
   "outputs": [],
   "source": []
  }
 ],
 "metadata": {
  "kernelspec": {
   "display_name": "Python 2",
   "language": "python",
   "name": "python2"
  },
  "language_info": {
   "codemirror_mode": {
    "name": "ipython",
    "version": 2
   },
   "file_extension": ".py",
   "mimetype": "text/x-python",
   "name": "python",
   "nbconvert_exporter": "python",
   "pygments_lexer": "ipython2",
   "version": "2.7.9"
  }
 },
 "nbformat": 4,
 "nbformat_minor": 0
}
